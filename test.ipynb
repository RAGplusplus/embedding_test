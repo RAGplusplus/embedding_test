{
 "cells": [
  {
   "cell_type": "code",
   "execution_count": 8,
   "metadata": {},
   "outputs": [
    {
     "name": "stdout",
     "output_type": "stream",
     "text": [
      "'one', 'two', 'three'\n"
     ]
    }
   ],
   "source": [
    "def format_list(lst: list[str]) -> str:return \"'\" + \"', '\".join(lst) + \"'\"\n",
    "\n",
    "list1 = [\"one\", \"two\", \"three\"]\n",
    "\n",
    "formatted_list = format_list(list1)\n",
    "print(formatted_list)"
   ]
  },
  {
   "cell_type": "code",
   "execution_count": 9,
   "metadata": {},
   "outputs": [],
   "source": [
    "import os\n",
    "from openai import OpenAI\n",
    "from pinecone import Pinecone\n",
    "\n",
    "from src.embedder import Embedder\n",
    "from src.db import PineconeDB\n",
    "\n",
    "# get the keys and create clients\n",
    "OPENAI_API_KEY = os.environ[\"OPENAI_API_KEY\"]\n",
    "PINECONE_API_KEY = os.environ[\"PINECONE_API_KEY\"]\n",
    "LANGCHAIN_API_KEY = os.environ[\"LANGCHAIN_API_KEY\"]   # TODO: where is this actually used???\n",
    "\n",
    "openai_client = OpenAI(api_key=OPENAI_API_KEY)\n",
    "pinecone_client = Pinecone(api_key=PINECONE_API_KEY)"
   ]
  },
  {
   "cell_type": "code",
   "execution_count": 10,
   "metadata": {},
   "outputs": [],
   "source": [
    "# index_name = \"docu-help\"\n",
    "# namespace = \"crawlee\""
   ]
  },
  {
   "cell_type": "code",
   "execution_count": 13,
   "metadata": {},
   "outputs": [
    {
     "name": "stdout",
     "output_type": "stream",
     "text": [
      "PineconeDB(indexes=[])\n"
     ]
    }
   ],
   "source": [
    "embedder = Embedder(openai_client)\n",
    "db = PineconeDB(pinecone_client)\n",
    "print(db)"
   ]
  },
  {
   "cell_type": "code",
   "execution_count": 14,
   "metadata": {},
   "outputs": [],
   "source": [
    "test_index = \"testing123\"\n",
    "test_index2 = \"testing456\""
   ]
  },
  {
   "cell_type": "code",
   "execution_count": 15,
   "metadata": {},
   "outputs": [
    {
     "name": "stdout",
     "output_type": "stream",
     "text": [
      "Creating index testing123...\n",
      "Creating index testing456...\n"
     ]
    }
   ],
   "source": [
    "db.create_index(test_index, embedder)\n",
    "db.create_index(test_index2, embedder)"
   ]
  },
  {
   "cell_type": "code",
   "execution_count": 16,
   "metadata": {},
   "outputs": [
    {
     "name": "stdout",
     "output_type": "stream",
     "text": [
      "PineconeDB(indexes=[testing123 (namespaces: 0), testing456 (namespaces: 0)])\n"
     ]
    }
   ],
   "source": [
    "print(db)"
   ]
  },
  {
   "cell_type": "code",
   "execution_count": 17,
   "metadata": {},
   "outputs": [
    {
     "name": "stdout",
     "output_type": "stream",
     "text": [
      "Deleting index testing123...\n",
      "Deleting index testing456...\n"
     ]
    }
   ],
   "source": [
    "db.delete_index(test_index)\n",
    "db.delete_index(test_index2)"
   ]
  },
  {
   "cell_type": "code",
   "execution_count": 18,
   "metadata": {},
   "outputs": [
    {
     "name": "stdout",
     "output_type": "stream",
     "text": [
      "PineconeDB(indexes=[])\n"
     ]
    }
   ],
   "source": [
    "print(db)"
   ]
  },
  {
   "cell_type": "code",
   "execution_count": 11,
   "metadata": {},
   "outputs": [],
   "source": [
    "import torch\n",
    "cov_var = torch.full(size=(3, ), fill_value=0.5)\n"
   ]
  },
  {
   "cell_type": "code",
   "execution_count": 12,
   "metadata": {},
   "outputs": [
    {
     "data": {
      "text/plain": [
       "tensor([[0.5000, 0.0000, 0.0000],\n",
       "        [0.0000, 0.5000, 0.0000],\n",
       "        [0.0000, 0.0000, 0.5000]])"
      ]
     },
     "execution_count": 12,
     "metadata": {},
     "output_type": "execute_result"
    }
   ],
   "source": [
    "torch.diag(cov_var)"
   ]
  },
  {
   "cell_type": "code",
   "execution_count": 14,
   "metadata": {},
   "outputs": [
    {
     "name": "stdout",
     "output_type": "stream",
     "text": [
      "Observation: [-0.04799651 -0.32498188 -0.6190602  -0.29137785]\n",
      "Action: [-0.2177402   0.80992997]\n",
      "Log Probability: tensor(-2.2678)\n"
     ]
    }
   ],
   "source": [
    "import torch\n",
    "import numpy as np\n",
    "from torch.distributions import MultivariateNormal\n",
    "\n",
    "class Actor(torch.nn.Module):\n",
    "    def __init__(self, obs_dim, act_dim):\n",
    "        super().__init__()\n",
    "        self.fc1 = torch.nn.Linear(obs_dim, 64)\n",
    "        self.fc2 = torch.nn.Linear(64, 64)\n",
    "        self.fc3 = torch.nn.Linear(64, act_dim)\n",
    "        \n",
    "    def forward(self, x):\n",
    "        x = torch.relu(self.fc1(x))\n",
    "        x = torch.relu(self.fc2(x))\n",
    "        x = self.fc3(x)\n",
    "        return x\n",
    "\n",
    "class Agent:\n",
    "    def __init__(self, obs_dim, act_dim):\n",
    "        self.actor = Actor(obs_dim, act_dim)\n",
    "        self.cov_mat = torch.eye(act_dim)\n",
    "        \n",
    "    def get_action(self, obs):\n",
    "        obs = torch.tensor(obs, dtype=torch.float32)\n",
    "        mean = self.actor(obs)\n",
    "        dist = MultivariateNormal(mean, self.cov_mat)\n",
    "        action = dist.sample()\n",
    "        log_prob = dist.log_prob(action)\n",
    "        return action.detach().numpy(), log_prob.detach()\n",
    "\n",
    "# Example usage\n",
    "obs_dim = 4\n",
    "act_dim = 2\n",
    "agent = Agent(obs_dim, act_dim)\n",
    "\n",
    "# Generate a random observation\n",
    "obs = np.random.randn(obs_dim)\n",
    "\n",
    "# Get the action and log probability\n",
    "action, log_prob = agent.get_action(obs)\n",
    "\n",
    "print(\"Observation:\", obs)\n",
    "print(\"Action:\", action)\n",
    "print(\"Log Probability:\", log_prob)"
   ]
  },
  {
   "cell_type": "code",
   "execution_count": 15,
   "metadata": {},
   "outputs": [
    {
     "name": "stdout",
     "output_type": "stream",
     "text": [
      "true tensor(0.0050)\n",
      "tensor(-0.0047) tensor(20.0085)\n",
      "tensor(0.0033) tensor(1.4185)\n",
      "tensor(0.0008) tensor(1.4174)\n"
     ]
    }
   ],
   "source": [
    "import torch.distributions as dis\n",
    "p = dis.Normal(loc=0, scale=1)\n",
    "q = dis.Normal(loc=0.1, scale=1)\n",
    "x = q.sample(sample_shape=(10_000_000,))\n",
    "truekl = dis.kl_divergence(p, q)\n",
    "print(\"true\", truekl)\n",
    "logr = p.log_prob(x) - q.log_prob(x)\n",
    "k1 = -logr\n",
    "k2 = logr ** 2 / 2\n",
    "k3 = (logr.exp() - 1) - logr\n",
    "for k in (k1, k2, k3):\n",
    "    print((k.mean() - truekl) / truekl, k.std() / truekl)"
   ]
  },
  {
   "cell_type": "code",
   "execution_count": null,
   "metadata": {},
   "outputs": [],
   "source": []
  }
 ],
 "metadata": {
  "kernelspec": {
   "display_name": "cashbot",
   "language": "python",
   "name": "python3"
  },
  "language_info": {
   "codemirror_mode": {
    "name": "ipython",
    "version": 3
   },
   "file_extension": ".py",
   "mimetype": "text/x-python",
   "name": "python",
   "nbconvert_exporter": "python",
   "pygments_lexer": "ipython3",
   "version": "3.11.5"
  }
 },
 "nbformat": 4,
 "nbformat_minor": 2
}
